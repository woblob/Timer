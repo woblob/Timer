{
 "cells": [
  {
   "cell_type": "code",
   "execution_count": null,
   "metadata": {},
   "outputs": [],
   "source": [
    "sec = 10000\n",
    "h, m_temp = divmod(sec, 3600)\n",
    "m, s = divmod(m_temp, 60)\n",
    "del m_temp\n",
    "h, m, s"
   ]
  },
  {
   "cell_type": "code",
   "execution_count": 2,
   "metadata": {},
   "outputs": [],
   "source": [
    "from time import sleep\n",
    "import json\n",
    "# import funkcje as f\n",
    "import subprocess\n",
    "import re\n",
    "# from lxml import etree as et"
   ]
  },
  {
   "cell_type": "code",
   "execution_count": 50,
   "metadata": {
    "scrolled": true
   },
   "outputs": [],
   "source": [
    "sesja = f.prepare_session()    "
   ]
  },
  {
   "cell_type": "code",
   "execution_count": 51,
   "metadata": {
    "scrolled": true
   },
   "outputs": [],
   "source": [
    "f.main_loop(sesja[\"activities\"])"
   ]
  },
  {
   "cell_type": "code",
   "execution_count": 52,
   "metadata": {
    "scrolled": true
   },
   "outputs": [
    {
     "data": {
      "text/plain": [
       "{'2020-09-22 22:33:21': {'tag': 'session',\n",
       "  'start': '2020-09-22 22:33:21',\n",
       "  'end': None,\n",
       "  'activities': defaultdict(dict,\n",
       "              {b'0x1200007;0': {'tag': 'activity',\n",
       "                'name': 'Desktop',\n",
       "                'entries': [{'tag': 'entry',\n",
       "                  'start_time': '2020-09-22 22:33:21',\n",
       "                  'end_time': '2020-09-22 22:33:21'}]},\n",
       "               b'0x4600003': {'tag': 'activity',\n",
       "                'name': 'Python - Using defaultdict to make dictionary of custom objects - Stack Overflow - Mozilla Firefox',\n",
       "                'entries': [{'tag': 'entry',\n",
       "                  'start_time': '2020-09-22 22:33:21',\n",
       "                  'end_time': '2020-09-22 22:33:31'}]}})}}"
      ]
     },
     "execution_count": 52,
     "metadata": {},
     "output_type": "execute_result"
    }
   ],
   "source": [
    "sesja"
   ]
  },
  {
   "cell_type": "code",
   "execution_count": null,
   "metadata": {},
   "outputs": [],
   "source": [
    "#id takie samo dla kazdego pod okna"
   ]
  },
  {
   "cell_type": "code",
   "execution_count": 11,
   "metadata": {},
   "outputs": [
    {
     "name": "stdout",
     "output_type": "stream",
     "text": [
      "<member 'default_factory' of 'collections.defaultdict' objects>\n"
     ]
    }
   ],
   "source": [
    "from collections import defaultdict\n",
    "dd = defaultdict(int)\n",
    "dd[\"1\"] += 1\n",
    "print(defaultdict.default_factory)"
   ]
  },
  {
   "cell_type": "code",
   "execution_count": 5,
   "metadata": {
    "scrolled": true
   },
   "outputs": [
    {
     "data": {
      "text/plain": [
       "{'2020-09-18 16:21:27': {'tag': 'session',\n",
       "  'start': '2020-09-18 16:21:27',\n",
       "  'end': None,\n",
       "  'activities': {'Desktop': {'tag': 'activity',\n",
       "    'name': 'Desktop',\n",
       "    'entries': {0: {'tag': 'entry',\n",
       "      'start_time': '2020-09-18 16:21:27',\n",
       "      'end_time': '2020-09-18 16:21:27'}}},\n",
       "   'JupyterLab - Mozilla Firefox': {'tag': 'activity',\n",
       "    'name': 'JupyterLab - Mozilla Firefox',\n",
       "    'entries': {0: {'tag': 'entry',\n",
       "      'start_time': '2020-09-18 16:21:27',\n",
       "      'end_time': '2020-09-18 16:21:37'}}}}},\n",
       " '2020-09-18 16:22:25': {'tag': 'session',\n",
       "  'start': '2020-09-18 16:22:25',\n",
       "  'end': None,\n",
       "  'activities': {'Desktop': {'tag': 'activity',\n",
       "    'name': 'Desktop',\n",
       "    'entries': {0: {'tag': 'entry',\n",
       "      'start_time': '2020-09-18 16:22:25',\n",
       "      'end_time': '2020-09-18 16:22:25'}}},\n",
       "   'JupyterLab - Mozilla Firefox': {'tag': 'activity',\n",
       "    'name': 'JupyterLab - Mozilla Firefox',\n",
       "    'entries': {0: {'tag': 'entry',\n",
       "      'start_time': '2020-09-18 16:22:25',\n",
       "      'end_time': '2020-09-18 16:22:35'}}}}}}"
      ]
     },
     "execution_count": 5,
     "metadata": {},
     "output_type": "execute_result"
    }
   ],
   "source": [
    "# sleep(2)\n",
    "sesja = f.prepare_session(DATA)    \n",
    "main_loop(sesja[\"activities\"])\n",
    "DATA"
   ]
  },
  {
   "cell_type": "code",
   "execution_count": 90,
   "metadata": {
    "scrolled": true
   },
   "outputs": [
    {
     "name": "stdout",
     "output_type": "stream",
     "text": [
      "hej\n",
      "hej\n",
      "hej\n",
      "hej\n"
     ]
    }
   ],
   "source": [
    "\n",
    "            \n",
    "# for i in range(3):\n",
    "#     print(next(monitor_status))\n",
    "#     sleep(1)\n",
    "c =0\n",
    "while monitor_is_on():\n",
    "    print(\"hej\")\n",
    "    sleep(1)\n",
    "    c+=1 \n",
    "    if c > 3:\n",
    "        break\n"
   ]
  },
  {
   "cell_type": "code",
   "execution_count": 5,
   "metadata": {},
   "outputs": [
    {
     "data": {
      "text/plain": [
       "{b'0xe00003': 'xfce4-panel',\n",
       " b'0x1200007': 'Desktop',\n",
       " b'0x4600003': 'JupyterLab - Mozilla Firefox',\n",
       " b'0x7000003': 'Terminal - roodygibon@MAMALYGA:~',\n",
       " b'0x7400003': '(339) Heilung - Futha (full album) 2019 - YouTube - Firefox Developer Edition',\n",
       " b'0x7000163': 'Terminal - roodygibon@MAMALYGA:~/Documents/programowanie wszystko/python/skrypty/pierdoly/autotimer/Timer'}"
      ]
     },
     "execution_count": 5,
     "metadata": {},
     "output_type": "execute_result"
    }
   ],
   "source": [
    "def get_ids_and_names_of_open_windows():\n",
    "    with subprocess.Popen(['xprop', \"-root\", \"_NET_CLIENT_LIST\"], stdout=subprocess.PIPE) as window:\n",
    "        stdout, stderr = window.communicate()\n",
    "        \n",
    "    matches = re.findall(b\"(0x\\w+)\", stdout)\n",
    "    return {ID: get_active_window_title2(ID) for ID in matches}\n",
    "        \n",
    "get_ids_and_names_of_open_windows()"
   ]
  },
  {
   "cell_type": "code",
   "execution_count": 3,
   "metadata": {},
   "outputs": [],
   "source": [
    "def printxml(x):\n",
    "    print(et.tostring(x, pretty_print=True).decode(\"UTF-8\"))"
   ]
  },
  {
   "cell_type": "code",
   "execution_count": 2,
   "metadata": {},
   "outputs": [],
   "source": [
    "def make_activity(ID):\n",
    "    NAME = get_active_window_title2(ID)\n",
    "    return et.Element(\"activity\", id=ID, name=NAME)"
   ]
  },
  {
   "cell_type": "code",
   "execution_count": 3,
   "metadata": {},
   "outputs": [],
   "source": [
    "def make_entry(START, END):\n",
    "    s = START.strftime(\"%Y-%m-%d %H:%M:%S\")\n",
    "    e = END.strftime(\"%Y-%m-%d %H:%M:%S\")\n",
    "    return et.Element(\"entry\", start_time= s, end_time= e)"
   ]
  },
  {
   "cell_type": "code",
   "execution_count": null,
   "metadata": {},
   "outputs": [],
   "source": [
    "def make_session(num, time):\n",
    "    return et.Element(\"session\",\n",
    "                      id=num,\n",
    "                      start=time,\n",
    "                      end=\"None\")\n",
    "\n",
    "el = make_session(\"0\", \"222\")\n",
    "act = make_activity(b\"0x38900\", \"name_act\")\n",
    "act2 = make_activity(b\"0x38901\", \"name_act2\")\n",
    "times = [f.mytimer() for _ in range(4)]\n",
    "en1 = make_entry(times[0], times[1])\n",
    "en2 = make_entry(times[2], times[3])\n",
    "en3 = make_entry(times[0], times[1])\n",
    "en4 = make_entry(times[2], times[3])\n",
    "\n",
    "el.append(act)\n",
    "el.append(act2)\n",
    "\n",
    "act.append(en1)\n",
    "act.append(en2)\n",
    "\n",
    "act2.append(en3)\n",
    "act2.append(en4)\n",
    "\n",
    "printxml(el)"
   ]
  },
  {
   "cell_type": "code",
   "execution_count": 9,
   "metadata": {},
   "outputs": [
    {
     "name": "stdout",
     "output_type": "stream",
     "text": [
      "0x38900\n",
      "0x38901\n"
     ]
    }
   ],
   "source": [
    "for ch in el.getchildren():\n",
    "    print(ch.get(\"id\"))"
   ]
  },
  {
   "cell_type": "code",
   "execution_count": 50,
   "metadata": {},
   "outputs": [
    {
     "data": {
      "text/plain": [
       "[<Element activity at 0x7fb6bf6d9e80>]"
      ]
     },
     "execution_count": 50,
     "metadata": {},
     "output_type": "execute_result"
    }
   ],
   "source": [
    "ID = \"0x38900\"\n",
    "act = el.xpath(f\"activity[@id='{ID}']\")#, {\"id\":\"0x38900\"})\n",
    "act#.getchildren()\n",
    "# printxml(act)"
   ]
  },
  {
   "cell_type": "code",
   "execution_count": null,
   "metadata": {},
   "outputs": [],
   "source": [
    "def update_activity(activs, ID, start, end):\n",
    "    activity = activs.xpath(f\"activity[@id='{ID}']\")\n",
    "    if activity:\n",
    "        activity = activity[0]\n",
    "    else:\n",
    "        activity = make_activity(ID)\n",
    "        activs.append(activity) \n",
    "        \n",
    "    entry = make_entry(start, end)\n",
    "    activity.append(entry)\n",
    "    "
   ]
  },
  {
   "cell_type": "code",
   "execution_count": null,
   "metadata": {},
   "outputs": [],
   "source": [
    "def main_loop(activities):\n",
    "    previous_window_id =  b\"0x1200007\"# 'Desktop'\n",
    "    start_time = f.mytimer()\n",
    "    for _ in range(10): # 20 * 10\n",
    "        active_window_id = f.get_active_window_id()\n",
    "        if previous_window_id != active_window_id:\n",
    "            end_time = f.mytimer()\n",
    "            update_activity(activities, previous_window_id, start_time, end_time)\n",
    "            start_time = f.mytimer()\n",
    "            \n",
    "            previous_window_id = active_window_id\n",
    "        sleep(1)\n",
    "    \n",
    "    end_time = f.mytimer()\n",
    "    f.update_activity(activities, previous_window_id, start_time, end_time)\n",
    "#     with open(\"outputs/filename.json\", \"w\") as file:\n",
    "#         json.dump(DATA, file, indent=4)"
   ]
  }
 ],
 "metadata": {
  "kernelspec": {
   "display_name": "Python 3",
   "language": "python",
   "name": "python3"
  },
  "language_info": {
   "codemirror_mode": {
    "name": "ipython",
    "version": 3
   },
   "file_extension": ".py",
   "mimetype": "text/x-python",
   "name": "python",
   "nbconvert_exporter": "python",
   "pygments_lexer": "ipython3",
   "version": "3.8.5"
  }
 },
 "nbformat": 4,
 "nbformat_minor": 4
}
