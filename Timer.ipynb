{
 "cells": [
  {
   "cell_type": "code",
   "execution_count": null,
   "metadata": {},
   "outputs": [],
   "source": [
    "sec = 10000\n",
    "h, m_temp = divmod(sec, 3600)\n",
    "m, s = divmod(m_temp, 60)\n",
    "del m_temp\n",
    "h, m, s"
   ]
  },
  {
   "cell_type": "code",
   "execution_count": 2,
   "metadata": {},
   "outputs": [],
   "source": [
    "from time import sleep\n",
    "import json\n",
    "import funkcje as f\n",
    "import subprocess\n",
    "import re\n",
    "from lxml import etree as et"
   ]
  },
  {
   "cell_type": "code",
   "execution_count": 3,
   "metadata": {
    "scrolled": true
   },
   "outputs": [
    {
     "ename": "TypingError",
     "evalue": "Failed in nopython mode pipeline (step: nopython frontend)\n\u001b[1m\u001b[1mnon-precise type pyobject\u001b[0m\n\u001b[0m\u001b[1m[1] During: typing of argument at /home/roodygibon/Documents/programowanie wszystko/python/skrypty/pierdoly/autotimer/AutoTimer/funkcje.py (85)\u001b[0m\n\u001b[1m\nFile \"funkcje.py\", line 85:\u001b[0m\n\u001b[1mdef prepare_session(data):\n\u001b[1m    today = datetime.datetime.today().strftime(\"%Y-%m-%d %H:%M:%S\")\n\u001b[0m    \u001b[1m^\u001b[0m\u001b[0m\n\nThis error may have been caused by the following argument(s):\n- argument 0: \u001b[1mcannot determine Numba type of <class 'dict'>\u001b[0m\n\nThis is not usually a problem with Numba itself but instead often caused by\nthe use of unsupported features or an issue in resolving types.\n\nTo see Python/NumPy features supported by the latest release of Numba visit:\nhttp://numba.pydata.org/numba-doc/latest/reference/pysupported.html\nand\nhttp://numba.pydata.org/numba-doc/latest/reference/numpysupported.html\n\nFor more information about typing errors and how to debug them visit:\nhttp://numba.pydata.org/numba-doc/latest/user/troubleshoot.html#my-code-doesn-t-compile\n\nIf you think your code should work with Numba, please report the error message\nand traceback, along with a minimal reproducer at:\nhttps://github.com/numba/numba/issues/new\n",
     "output_type": "error",
     "traceback": [
      "\u001b[0;31m---------------------------------------------------------------------------\u001b[0m",
      "\u001b[0;31mTypingError\u001b[0m                               Traceback (most recent call last)",
      "\u001b[0;32m<ipython-input-3-fabef2793e9b>\u001b[0m in \u001b[0;36m<module>\u001b[0;34m\u001b[0m\n\u001b[1;32m      1\u001b[0m \u001b[0mDATA\u001b[0m \u001b[0;34m=\u001b[0m \u001b[0mdict\u001b[0m\u001b[0;34m(\u001b[0m\u001b[0;34m)\u001b[0m\u001b[0;34m\u001b[0m\u001b[0;34m\u001b[0m\u001b[0m\n\u001b[0;32m----> 2\u001b[0;31m \u001b[0msesja\u001b[0m \u001b[0;34m=\u001b[0m \u001b[0mf\u001b[0m\u001b[0;34m.\u001b[0m\u001b[0mprepare_session\u001b[0m\u001b[0;34m(\u001b[0m\u001b[0mDATA\u001b[0m\u001b[0;34m)\u001b[0m\u001b[0;34m\u001b[0m\u001b[0;34m\u001b[0m\u001b[0m\n\u001b[0m\u001b[1;32m      3\u001b[0m \u001b[0mf\u001b[0m\u001b[0;34m.\u001b[0m\u001b[0mmain_loop\u001b[0m\u001b[0;34m(\u001b[0m\u001b[0msesja\u001b[0m\u001b[0;34m[\u001b[0m\u001b[0;34m\"activities\"\u001b[0m\u001b[0;34m]\u001b[0m\u001b[0;34m)\u001b[0m\u001b[0;34m\u001b[0m\u001b[0;34m\u001b[0m\u001b[0m\n\u001b[1;32m      4\u001b[0m \u001b[0mDATA\u001b[0m\u001b[0;34m\u001b[0m\u001b[0;34m\u001b[0m\u001b[0m\n",
      "\u001b[0;32m/usr/lib/python3.8/site-packages/numba/dispatcher.py\u001b[0m in \u001b[0;36m_compile_for_args\u001b[0;34m(self, *args, **kws)\u001b[0m\n\u001b[1;32m    399\u001b[0m                 \u001b[0me\u001b[0m\u001b[0;34m.\u001b[0m\u001b[0mpatch_message\u001b[0m\u001b[0;34m(\u001b[0m\u001b[0mmsg\u001b[0m\u001b[0;34m)\u001b[0m\u001b[0;34m\u001b[0m\u001b[0;34m\u001b[0m\u001b[0m\n\u001b[1;32m    400\u001b[0m \u001b[0;34m\u001b[0m\u001b[0m\n\u001b[0;32m--> 401\u001b[0;31m             \u001b[0merror_rewrite\u001b[0m\u001b[0;34m(\u001b[0m\u001b[0me\u001b[0m\u001b[0;34m,\u001b[0m \u001b[0;34m'typing'\u001b[0m\u001b[0;34m)\u001b[0m\u001b[0;34m\u001b[0m\u001b[0;34m\u001b[0m\u001b[0m\n\u001b[0m\u001b[1;32m    402\u001b[0m         \u001b[0;32mexcept\u001b[0m \u001b[0merrors\u001b[0m\u001b[0;34m.\u001b[0m\u001b[0mUnsupportedError\u001b[0m \u001b[0;32mas\u001b[0m \u001b[0me\u001b[0m\u001b[0;34m:\u001b[0m\u001b[0;34m\u001b[0m\u001b[0;34m\u001b[0m\u001b[0m\n\u001b[1;32m    403\u001b[0m             \u001b[0;31m# Something unsupported is present in the user code, add help info\u001b[0m\u001b[0;34m\u001b[0m\u001b[0;34m\u001b[0m\u001b[0;34m\u001b[0m\u001b[0m\n",
      "\u001b[0;32m/usr/lib/python3.8/site-packages/numba/dispatcher.py\u001b[0m in \u001b[0;36merror_rewrite\u001b[0;34m(e, issue_type)\u001b[0m\n\u001b[1;32m    342\u001b[0m                 \u001b[0;32mraise\u001b[0m \u001b[0me\u001b[0m\u001b[0;34m\u001b[0m\u001b[0;34m\u001b[0m\u001b[0m\n\u001b[1;32m    343\u001b[0m             \u001b[0;32melse\u001b[0m\u001b[0;34m:\u001b[0m\u001b[0;34m\u001b[0m\u001b[0;34m\u001b[0m\u001b[0m\n\u001b[0;32m--> 344\u001b[0;31m                 \u001b[0mreraise\u001b[0m\u001b[0;34m(\u001b[0m\u001b[0mtype\u001b[0m\u001b[0;34m(\u001b[0m\u001b[0me\u001b[0m\u001b[0;34m)\u001b[0m\u001b[0;34m,\u001b[0m \u001b[0me\u001b[0m\u001b[0;34m,\u001b[0m \u001b[0;32mNone\u001b[0m\u001b[0;34m)\u001b[0m\u001b[0;34m\u001b[0m\u001b[0;34m\u001b[0m\u001b[0m\n\u001b[0m\u001b[1;32m    345\u001b[0m \u001b[0;34m\u001b[0m\u001b[0m\n\u001b[1;32m    346\u001b[0m         \u001b[0margtypes\u001b[0m \u001b[0;34m=\u001b[0m \u001b[0;34m[\u001b[0m\u001b[0;34m]\u001b[0m\u001b[0;34m\u001b[0m\u001b[0;34m\u001b[0m\u001b[0m\n",
      "\u001b[0;32m/usr/lib/python3.8/site-packages/numba/six.py\u001b[0m in \u001b[0;36mreraise\u001b[0;34m(tp, value, tb)\u001b[0m\n\u001b[1;32m    666\u001b[0m             \u001b[0mvalue\u001b[0m \u001b[0;34m=\u001b[0m \u001b[0mtp\u001b[0m\u001b[0;34m(\u001b[0m\u001b[0;34m)\u001b[0m\u001b[0;34m\u001b[0m\u001b[0;34m\u001b[0m\u001b[0m\n\u001b[1;32m    667\u001b[0m         \u001b[0;32mif\u001b[0m \u001b[0mvalue\u001b[0m\u001b[0;34m.\u001b[0m\u001b[0m__traceback__\u001b[0m \u001b[0;32mis\u001b[0m \u001b[0;32mnot\u001b[0m \u001b[0mtb\u001b[0m\u001b[0;34m:\u001b[0m\u001b[0;34m\u001b[0m\u001b[0;34m\u001b[0m\u001b[0m\n\u001b[0;32m--> 668\u001b[0;31m             \u001b[0;32mraise\u001b[0m \u001b[0mvalue\u001b[0m\u001b[0;34m.\u001b[0m\u001b[0mwith_traceback\u001b[0m\u001b[0;34m(\u001b[0m\u001b[0mtb\u001b[0m\u001b[0;34m)\u001b[0m\u001b[0;34m\u001b[0m\u001b[0;34m\u001b[0m\u001b[0m\n\u001b[0m\u001b[1;32m    669\u001b[0m         \u001b[0;32mraise\u001b[0m \u001b[0mvalue\u001b[0m\u001b[0;34m\u001b[0m\u001b[0;34m\u001b[0m\u001b[0m\n\u001b[1;32m    670\u001b[0m \u001b[0;34m\u001b[0m\u001b[0m\n",
      "\u001b[0;31mTypingError\u001b[0m: Failed in nopython mode pipeline (step: nopython frontend)\n\u001b[1m\u001b[1mnon-precise type pyobject\u001b[0m\n\u001b[0m\u001b[1m[1] During: typing of argument at /home/roodygibon/Documents/programowanie wszystko/python/skrypty/pierdoly/autotimer/AutoTimer/funkcje.py (85)\u001b[0m\n\u001b[1m\nFile \"funkcje.py\", line 85:\u001b[0m\n\u001b[1mdef prepare_session(data):\n\u001b[1m    today = datetime.datetime.today().strftime(\"%Y-%m-%d %H:%M:%S\")\n\u001b[0m    \u001b[1m^\u001b[0m\u001b[0m\n\nThis error may have been caused by the following argument(s):\n- argument 0: \u001b[1mcannot determine Numba type of <class 'dict'>\u001b[0m\n\nThis is not usually a problem with Numba itself but instead often caused by\nthe use of unsupported features or an issue in resolving types.\n\nTo see Python/NumPy features supported by the latest release of Numba visit:\nhttp://numba.pydata.org/numba-doc/latest/reference/pysupported.html\nand\nhttp://numba.pydata.org/numba-doc/latest/reference/numpysupported.html\n\nFor more information about typing errors and how to debug them visit:\nhttp://numba.pydata.org/numba-doc/latest/user/troubleshoot.html#my-code-doesn-t-compile\n\nIf you think your code should work with Numba, please report the error message\nand traceback, along with a minimal reproducer at:\nhttps://github.com/numba/numba/issues/new\n"
     ]
    }
   ],
   "source": [
    "DATA = dict()\n",
    "sesja = f.prepare_session(DATA)    \n",
    "f.main_loop(sesja[\"activities\"])\n",
    "DATA"
   ]
  },
  {
   "cell_type": "code",
   "execution_count": 5,
   "metadata": {
    "scrolled": true
   },
   "outputs": [
    {
     "data": {
      "text/plain": [
       "{'2020-09-18 16:21:27': {'tag': 'session',\n",
       "  'start': '2020-09-18 16:21:27',\n",
       "  'end': None,\n",
       "  'activities': {'Desktop': {'tag': 'activity',\n",
       "    'name': 'Desktop',\n",
       "    'entries': {0: {'tag': 'entry',\n",
       "      'start_time': '2020-09-18 16:21:27',\n",
       "      'end_time': '2020-09-18 16:21:27'}}},\n",
       "   'JupyterLab - Mozilla Firefox': {'tag': 'activity',\n",
       "    'name': 'JupyterLab - Mozilla Firefox',\n",
       "    'entries': {0: {'tag': 'entry',\n",
       "      'start_time': '2020-09-18 16:21:27',\n",
       "      'end_time': '2020-09-18 16:21:37'}}}}},\n",
       " '2020-09-18 16:22:25': {'tag': 'session',\n",
       "  'start': '2020-09-18 16:22:25',\n",
       "  'end': None,\n",
       "  'activities': {'Desktop': {'tag': 'activity',\n",
       "    'name': 'Desktop',\n",
       "    'entries': {0: {'tag': 'entry',\n",
       "      'start_time': '2020-09-18 16:22:25',\n",
       "      'end_time': '2020-09-18 16:22:25'}}},\n",
       "   'JupyterLab - Mozilla Firefox': {'tag': 'activity',\n",
       "    'name': 'JupyterLab - Mozilla Firefox',\n",
       "    'entries': {0: {'tag': 'entry',\n",
       "      'start_time': '2020-09-18 16:22:25',\n",
       "      'end_time': '2020-09-18 16:22:35'}}}}}}"
      ]
     },
     "execution_count": 5,
     "metadata": {},
     "output_type": "execute_result"
    }
   ],
   "source": [
    "# sleep(2)\n",
    "sesja = f.prepare_session(DATA)    \n",
    "main_loop(sesja[\"activities\"])\n",
    "DATA"
   ]
  },
  {
   "cell_type": "code",
   "execution_count": 3,
   "metadata": {},
   "outputs": [],
   "source": [
    "def printxml(x):\n",
    "    print(et.tostring(x, pretty_print=True).decode(\"UTF-8\"))"
   ]
  },
  {
   "cell_type": "code",
   "execution_count": 2,
   "metadata": {},
   "outputs": [],
   "source": [
    "def make_activity(ID):\n",
    "    NAME = get_active_window_title2(ID)\n",
    "    return et.Element(\"activity\", id=ID, name=NAME)"
   ]
  },
  {
   "cell_type": "code",
   "execution_count": 3,
   "metadata": {},
   "outputs": [],
   "source": [
    "def make_entry(START, END):\n",
    "    s = START.strftime(\"%Y-%m-%d %H:%M:%S\")\n",
    "    e = END.strftime(\"%Y-%m-%d %H:%M:%S\")\n",
    "    return et.Element(\"entry\", start_time= s, end_time= e)"
   ]
  },
  {
   "cell_type": "code",
   "execution_count": null,
   "metadata": {},
   "outputs": [],
   "source": [
    "def make_session(num, time):\n",
    "    return et.Element(\"session\",\n",
    "                      id=num,\n",
    "                      start=time,\n",
    "                      end=\"None\")\n",
    "\n",
    "el = make_session(\"0\", \"222\")\n",
    "act = make_activity(b\"0x38900\", \"name_act\")\n",
    "act2 = make_activity(b\"0x38901\", \"name_act2\")\n",
    "times = [f.mytimer() for _ in range(4)]\n",
    "en1 = make_entry(times[0], times[1])\n",
    "en2 = make_entry(times[2], times[3])\n",
    "en3 = make_entry(times[0], times[1])\n",
    "en4 = make_entry(times[2], times[3])\n",
    "\n",
    "el.append(act)\n",
    "el.append(act2)\n",
    "\n",
    "act.append(en1)\n",
    "act.append(en2)\n",
    "\n",
    "act2.append(en3)\n",
    "act2.append(en4)\n",
    "\n",
    "printxml(el)"
   ]
  },
  {
   "cell_type": "code",
   "execution_count": 9,
   "metadata": {},
   "outputs": [
    {
     "name": "stdout",
     "output_type": "stream",
     "text": [
      "0x38900\n",
      "0x38901\n"
     ]
    }
   ],
   "source": [
    "for ch in el.getchildren():\n",
    "    print(ch.get(\"id\"))"
   ]
  },
  {
   "cell_type": "code",
   "execution_count": 90,
   "metadata": {
    "scrolled": true
   },
   "outputs": [
    {
     "name": "stdout",
     "output_type": "stream",
     "text": [
      "hej\n",
      "hej\n",
      "hej\n",
      "hej\n"
     ]
    }
   ],
   "source": [
    "\n",
    "            \n",
    "# for i in range(3):\n",
    "#     print(next(monitor_status))\n",
    "#     sleep(1)\n",
    "c =0\n",
    "while monitor_is_on():\n",
    "    print(\"hej\")\n",
    "    sleep(1)\n",
    "    c+=1 \n",
    "    if c > 3:\n",
    "        break\n"
   ]
  },
  {
   "cell_type": "code",
   "execution_count": 50,
   "metadata": {},
   "outputs": [
    {
     "data": {
      "text/plain": [
       "[<Element activity at 0x7fb6bf6d9e80>]"
      ]
     },
     "execution_count": 50,
     "metadata": {},
     "output_type": "execute_result"
    }
   ],
   "source": [
    "ID = \"0x38900\"\n",
    "act = el.xpath(f\"activity[@id='{ID}']\")#, {\"id\":\"0x38900\"})\n",
    "act#.getchildren()\n",
    "# printxml(act)"
   ]
  },
  {
   "cell_type": "code",
   "execution_count": null,
   "metadata": {},
   "outputs": [],
   "source": [
    "def update_activity(activs, ID, start, end):\n",
    "    activity = activs.xpath(f\"activity[@id='{ID}']\")\n",
    "    if activity:\n",
    "        activity = activity[0]\n",
    "    else:\n",
    "        activity = make_activity(ID)\n",
    "        activs.append(activity) \n",
    "        \n",
    "    entry = make_entry(start, end)\n",
    "    activity.append(entry)\n",
    "    "
   ]
  },
  {
   "cell_type": "code",
   "execution_count": null,
   "metadata": {},
   "outputs": [],
   "source": [
    "def main_loop(activities):\n",
    "    previous_window_id =  b\"0x1200007\"# 'Desktop'\n",
    "    start_time = f.mytimer()\n",
    "    for _ in range(10): # 60 * 10\n",
    "        active_window_id = f.get_active_window_id()\n",
    "        if previous_window_id != active_window_id:\n",
    "            end_time = f.mytimer()\n",
    "            f.update_activity(activities, previous_window_id, start_time, end_time)\n",
    "            start_time = f.mytimer()\n",
    "            \n",
    "            previous_window_id = active_window_id\n",
    "        sleep(1)\n",
    "    \n",
    "    end_time = f.mytimer()\n",
    "    f.update_activity(activities, previous_window_id, start_time, end_time)\n",
    "#     with open(\"outputs/filename.json\", \"w\") as file:\n",
    "#         json.dump(DATA, file, indent=4)\n",
    "        "
   ]
  },
  {
   "cell_type": "code",
   "execution_count": 108,
   "metadata": {},
   "outputs": [
    {
     "data": {
      "text/plain": [
       "{b'0xe00003': 'xfce4-panel',\n",
       " b'0x1200007': 'Desktop',\n",
       " b'0x4000003': '(309) Nuclear Winter (Multiple Dark Ambient Hours) - YouTube - Firefox Developer Edition',\n",
       " b'0x5c00003': 'Terminal - roodygibon@MAMALYGA:~',\n",
       " b'0x5e00003': 'JupyterLab - Mozilla Firefox',\n",
       " b'0x5c0018c': 'Terminal - roodygibon@MAMALYGA:~'}"
      ]
     },
     "execution_count": 108,
     "metadata": {},
     "output_type": "execute_result"
    }
   ],
   "source": [
    "def get_ids_and_names_of_open_windows():\n",
    "    with subprocess.Popen(['xprop', \"-root\", \"_NET_CLIENT_LIST\"], stdout=subprocess.PIPE) as window:\n",
    "        stdout, stderr = window.communicate()\n",
    "        \n",
    "    matches = re.findall(b\"(0x\\w+)\", stdout)\n",
    "    return {ID: get_active_window_title2(ID) for ID in matches}\n",
    "        \n",
    "get_ids_and_names_of_open_windows()"
   ]
  },
  {
   "cell_type": "code",
   "execution_count": 106,
   "metadata": {},
   "outputs": [],
   "source": [
    "def get_active_window_title2(ID):\n",
    "    with subprocess.Popen(['xprop', '-id', ID, 'WM_NAME'], stdout=subprocess.PIPE) as window:\n",
    "        stdout, stderr = window.communicate()\n",
    "    match = re.match(b\"WM_NAME\\(\\w+\\) = (?P<name>.+)$\", stdout)\n",
    "    if match is not None:\n",
    "        name = match.group(\"name\").strip(b'\"').decode(\"utf-8\")\n",
    "    return name or None"
   ]
  },
  {
   "cell_type": "code",
   "execution_count": 110,
   "metadata": {},
   "outputs": [],
   "source": [
    "def get_active_window_id():\n",
    "    with subprocess.Popen(['xprop', '-root', '_NET_ACTIVE_WINDOW'], stdout=subprocess.PIPE) as root:\n",
    "        stdout, stderr = root.communicate()\n",
    "    m = re.search(b'^_NET_ACTIVE_WINDOW.* ([\\w]+)\\, 0x\\w+\\n$', stdout)\n",
    "    if m is None:\n",
    "        return None\n",
    "    window_id = m.group(1)\n",
    "    return window_id"
   ]
  },
  {
   "cell_type": "code",
   "execution_count": 27,
   "metadata": {},
   "outputs": [
    {
     "name": "stdout",
     "output_type": "stream",
     "text": [
      "4.47 ms ± 262 µs per loop (mean ± std. dev. of 7 runs, 100 loops each)\n"
     ]
    }
   ],
   "source": [
    "def func():\n",
    "    with subprocess.Popen(['xprop', \"-root\", \"_NET_ACTIVE_WINDOW\"], stdout=subprocess.PIPE) as window:\n",
    "        stdout, _ = window.communicate()\n",
    "        return stdout\n",
    "%timeit func()\n"
   ]
  }
 ],
 "metadata": {
  "kernelspec": {
   "display_name": "Python 3",
   "language": "python",
   "name": "python3"
  },
  "language_info": {
   "codemirror_mode": {
    "name": "ipython",
    "version": 3
   },
   "file_extension": ".py",
   "mimetype": "text/x-python",
   "name": "python",
   "nbconvert_exporter": "python",
   "pygments_lexer": "ipython3",
   "version": "3.8.5"
  }
 },
 "nbformat": 4,
 "nbformat_minor": 4
}
